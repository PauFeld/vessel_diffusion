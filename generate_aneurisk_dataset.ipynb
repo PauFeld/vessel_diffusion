{
 "cells": [
  {
   "cell_type": "code",
   "execution_count": null,
   "metadata": {},
   "outputs": [
    {
     "name": "stderr",
     "output_type": "stream",
     "text": [
      "c:\\Users\\User\\miniconda3\\envs\\pytorch\\lib\\site-packages\\tqdm\\auto.py:21: TqdmWarning: IProgress not found. Please update jupyter and ipywidgets. See https://ipywidgets.readthedocs.io/en/stable/user_install.html\n",
      "  from .autonotebook import tqdm as notebook_tqdm\n"
     ]
    }
   ],
   "source": [
    "import argparse\n",
    "import os\n",
    "\n",
    "from pathlib import Path\n",
    "\n",
    "import torch\n",
    "from torch.backends import cudnn\n",
    "\n",
    "from tqdm import tqdm\n",
    "\n",
    "from utils.checkpoint import save_checkpoint\n",
    "from datasets.vessel_set import VesselSet\n",
    "from modules.edm import EDMLoss, EDMPrecond\n",
    "import numpy as np\n"
   ]
  },
  {
   "cell_type": "code",
   "execution_count": 4,
   "metadata": {},
   "outputs": [],
   "source": [
    "files = os.listdir(\"centerlineArray\")"
   ]
  },
  {
   "cell_type": "code",
   "execution_count": 9,
   "metadata": {},
   "outputs": [
    {
     "name": "stdout",
     "output_type": "stream",
     "text": [
      "(1, 7, 1215, 4)\n",
      "(1, 5, 1041, 4)\n",
      "Final data shape: (98, 12, 1615, 4)\n"
     ]
    }
   ],
   "source": [
    "all_vessels = []\n",
    "\n",
    "for file in files:\n",
    "    if file.endswith(\".npy\"):\n",
    "        aneu = np.load(\"centerlineArray/\" + file)\n",
    "        segment_numbers = np.unique(aneu[:, -1])\n",
    "\n",
    "        # Collect segments for this vessel\n",
    "        segments = []\n",
    "        for seg_num in segment_numbers:\n",
    "            # Filter rows for the current segment and remove the segment number column\n",
    "            segment_points = aneu[aneu[:, -1] == seg_num][:, :-1]\n",
    "            segments.append(segment_points)\n",
    "        \n",
    "        # Find the maximum number of points in any segment for this vessel\n",
    "        max_points = max(segment.shape[0] for segment in segments)\n",
    "\n",
    "        # Pad each segment to have the same number of points\n",
    "        padded_segments = [\n",
    "            np.pad(segment, ((0, max_points - segment.shape[0]), (0, 0)), 'constant')\n",
    "            for segment in segments\n",
    "        ]\n",
    "\n",
    "        # Stack all segments for this vessel along a new dimension (axis 0)\n",
    "        vessel_data = np.stack([padded_segments], axis=0)\n",
    "        \n",
    "        # Add the stacked segments for this vessel to the list of all vessels\n",
    "        all_vessels.append(vessel_data)\n",
    "\n",
    "max_segments = max(arr.shape[1] for arr in all_vessels)\n",
    "max_points = max(arr.shape[2] for arr in all_vessels)\n",
    "\n",
    "\n",
    "print(all_vessels[0].shape)\n",
    "print(all_vessels[1].shape)\n",
    "# Pad each array to have the shape (1, max_segments, max_points, 4)\n",
    "padded_arrays = []\n",
    "for arr in all_vessels:\n",
    "    # Calculate padding for the segments and points dimensions\n",
    "    pad_segments = max_segments - arr.shape[1]\n",
    "    pad_points = max_points - arr.shape[2]\n",
    "    \n",
    "    # Pad the array\n",
    "    padded_arr = np.pad(\n",
    "        arr,\n",
    "        pad_width=((0, 0), (0, pad_segments), (0, pad_points), (0, 0)),\n",
    "        mode='constant',\n",
    "        constant_values=0  # You can change this if needed\n",
    "    )\n",
    "    padded_arrays.append(padded_arr)\n",
    "\n",
    "# Stack the padded arrays along a new dimension\n",
    "final_data = np.concatenate(padded_arrays, axis=0)\n",
    "\n",
    "print(\"Final data shape:\", final_data.shape)  # Expected shape: (number_of_arrays, max_segments, max_points, 4)\n",
    "np.save(\"datasets/aneurisk/data_train.npy\", final_data)"
   ]
  },
  {
   "cell_type": "code",
   "execution_count": 13,
   "metadata": {},
   "outputs": [],
   "source": [
    "train_set = VesselSet(split=\"train\", path=\"aneurisk\")\n",
    "\n",
    "train_loader = torch.utils.data.DataLoader(\n",
    "    dataset=train_set,\n",
    "    batch_size=16,\n",
    "    num_workers=0,\n",
    "    drop_last=True,\n",
    "    shuffle=True,\n",
    ")"
   ]
  },
  {
   "cell_type": "code",
   "execution_count": 14,
   "metadata": {},
   "outputs": [
    {
     "name": "stdout",
     "output_type": "stream",
     "text": [
      "torch.Size([16, 256, 8])\n",
      "torch.Size([16, 256, 8])\n",
      "torch.Size([16, 256, 8])\n",
      "torch.Size([16, 256, 8])\n",
      "torch.Size([16, 256, 8])\n",
      "torch.Size([16, 256, 8])\n"
     ]
    }
   ],
   "source": [
    "for inputs, labels in train_loader:\n",
    "    print(inputs.shape)"
   ]
  },
  {
   "cell_type": "code",
   "execution_count": 16,
   "metadata": {},
   "outputs": [],
   "source": [
    "import matplotlib.pyplot as plt"
   ]
  },
  {
   "cell_type": "code",
   "execution_count": 20,
   "metadata": {},
   "outputs": [
    {
     "name": "stdout",
     "output_type": "stream",
     "text": [
      "2\n",
      "torch.Size([16, 256, 8])\n"
     ]
    },
    {
     "ename": "TypeError",
     "evalue": "The first input argument needs to be a sequence",
     "output_type": "error",
     "traceback": [
      "\u001b[1;31m---------------------------------------------------------------------------\u001b[0m",
      "\u001b[1;31mTypeError\u001b[0m                                 Traceback (most recent call last)",
      "Cell \u001b[1;32mIn[20], line 5\u001b[0m\n\u001b[0;32m      3\u001b[0m \u001b[38;5;28;01mfor\u001b[39;00m tree \u001b[38;5;129;01min\u001b[39;00m batch:\n\u001b[0;32m      4\u001b[0m     \u001b[38;5;28mprint\u001b[39m(tree\u001b[38;5;241m.\u001b[39mshape)\n\u001b[1;32m----> 5\u001b[0m     segment \u001b[38;5;241m=\u001b[39m \u001b[43mnp\u001b[49m\u001b[38;5;241;43m.\u001b[39;49m\u001b[43mconcatenate\u001b[49m\u001b[43m(\u001b[49m\u001b[43mtree\u001b[49m\u001b[43m,\u001b[49m\u001b[43m \u001b[49m\u001b[43maxis\u001b[49m\u001b[38;5;241;43m=\u001b[39;49m\u001b[38;5;241;43m0\u001b[39;49m\u001b[43m)\u001b[49m\n\u001b[0;32m      8\u001b[0m     segment[\u001b[38;5;241m.\u001b[39m\u001b[38;5;241m.\u001b[39m\u001b[38;5;241m.\u001b[39m, :\u001b[38;5;241m3\u001b[39m] \u001b[38;5;241m-\u001b[39m\u001b[38;5;241m=\u001b[39m segment[\u001b[38;5;241m.\u001b[39m\u001b[38;5;241m.\u001b[39m\u001b[38;5;241m.\u001b[39m, :\u001b[38;5;241m3\u001b[39m]\u001b[38;5;241m.\u001b[39mmean(\u001b[38;5;241m0\u001b[39m, keepdims\u001b[38;5;241m=\u001b[39m\u001b[38;5;28;01mTrue\u001b[39;00m)\n\u001b[0;32m      9\u001b[0m     \u001b[38;5;28mprint\u001b[39m(segment)\n",
      "\u001b[1;31mTypeError\u001b[0m: The first input argument needs to be a sequence"
     ]
    }
   ],
   "source": [
    "for i, batch in enumerate(train_loader):\n",
    "    print(len(batch))\n",
    "    for tree in batch:\n",
    "        print(tree.shape)\n",
    "        segment = np.concatenate(tree, axis=0)\n",
    "            \n",
    "\n",
    "        segment[..., :3] -= segment[..., :3].mean(0, keepdims=True)\n",
    "        print(segment)\n",
    "        max_r = np.max(np.abs(segment))\n",
    "\n",
    "        points, radii = segment[..., :3], segment[..., 3]\n",
    "\n",
    "        fig = plt.figure(figsize=(10, 8))\n",
    "\n",
    "        ax = fig.add_subplot(projection=\"3d\")\n",
    "        ax.scatter(0, 0, 0, color=\"red\", s=50)\n",
    "        ax.scatter(*points[...,].T, s=(10 * radii) ** 2, c=points[..., 2])\n",
    "\n",
    "        ax.set_xlim(-max_r, max_r)\n",
    "        ax.set_ylim(-max_r, max_r)\n",
    "        ax.set_zlim(-max_r, max_r)\n",
    "\n",
    "        plt.show()"
   ]
  },
  {
   "cell_type": "code",
   "execution_count": null,
   "metadata": {},
   "outputs": [],
   "source": []
  }
 ],
 "metadata": {
  "kernelspec": {
   "display_name": "pytorch",
   "language": "python",
   "name": "python3"
  },
  "language_info": {
   "codemirror_mode": {
    "name": "ipython",
    "version": 3
   },
   "file_extension": ".py",
   "mimetype": "text/x-python",
   "name": "python",
   "nbconvert_exporter": "python",
   "pygments_lexer": "ipython3",
   "version": "3.10.15"
  }
 },
 "nbformat": 4,
 "nbformat_minor": 2
}
