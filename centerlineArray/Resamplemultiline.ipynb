{
 "cells": [
  {
   "cell_type": "markdown",
   "metadata": {
    "colab_type": "text",
    "id": "view-in-github"
   },
   "source": [
    "<a href=\"https://colab.research.google.com/github/PauFeld/AneuriskDataset/blob/master/Resamplemultiline.ipynb\" target=\"_parent\"><img src=\"https://colab.research.google.com/assets/colab-badge.svg\" alt=\"Open In Colab\"/></a>"
   ]
  },
  {
   "cell_type": "code",
   "execution_count": 1,
   "metadata": {
    "id": "hV7nnjLZcd_0"
   },
   "outputs": [],
   "source": [
    "# Import de paquetes\n",
    "%matplotlib inline\n",
    "import matplotlib.pyplot as plt\n",
    "%matplotlib inline\n",
    "plt.ion()\n",
    "\n",
    "import sys\n",
    "import os\n",
    "\n",
    "# Numpy\n",
    "import numpy as np\n",
    "from skimage import color, io\n",
    "\n",
    "import math"
   ]
  },
  {
   "cell_type": "code",
   "execution_count": 2,
   "metadata": {
    "colab": {
     "base_uri": "https://localhost:8080/"
    },
    "id": "mTfb9lIjgLw7",
    "outputId": "b8193100-7da2-44b5-ffc0-1be002cf8fe9"
   },
   "outputs": [
    {
     "ename": "ModuleNotFoundError",
     "evalue": "No module named 'google'",
     "output_type": "error",
     "traceback": [
      "\u001b[1;31m---------------------------------------------------------------------------\u001b[0m",
      "\u001b[1;31mModuleNotFoundError\u001b[0m                       Traceback (most recent call last)",
      "\u001b[1;32m<ipython-input-2-d2a838006109>\u001b[0m in \u001b[0;36m<module>\u001b[1;34m\u001b[0m\n\u001b[1;32m----> 1\u001b[1;33m \u001b[1;32mfrom\u001b[0m \u001b[0mgoogle\u001b[0m\u001b[1;33m.\u001b[0m\u001b[0mcolab\u001b[0m \u001b[1;32mimport\u001b[0m \u001b[0mdrive\u001b[0m\u001b[1;33m\u001b[0m\u001b[1;33m\u001b[0m\u001b[0m\n\u001b[0m\u001b[0;32m      2\u001b[0m \u001b[0mdrive\u001b[0m\u001b[1;33m.\u001b[0m\u001b[0mmount\u001b[0m\u001b[1;33m(\u001b[0m\u001b[1;34m'/content/gdrive'\u001b[0m\u001b[1;33m)\u001b[0m\u001b[1;33m\u001b[0m\u001b[1;33m\u001b[0m\u001b[0m\n\u001b[0;32m      3\u001b[0m \u001b[0mget_ipython\u001b[0m\u001b[1;33m(\u001b[0m\u001b[1;33m)\u001b[0m\u001b[1;33m.\u001b[0m\u001b[0mrun_line_magic\u001b[0m\u001b[1;33m(\u001b[0m\u001b[1;34m'cd'\u001b[0m\u001b[1;33m,\u001b[0m \u001b[1;34m'gdrive/My Drive/'\u001b[0m\u001b[1;33m)\u001b[0m\u001b[1;33m\u001b[0m\u001b[1;33m\u001b[0m\u001b[0m\n\u001b[0;32m      4\u001b[0m \u001b[0mget_ipython\u001b[0m\u001b[1;33m(\u001b[0m\u001b[1;33m)\u001b[0m\u001b[1;33m.\u001b[0m\u001b[0mrun_line_magic\u001b[0m\u001b[1;33m(\u001b[0m\u001b[1;34m'cd'\u001b[0m\u001b[1;33m,\u001b[0m \u001b[1;34m'AneuriskDataset'\u001b[0m\u001b[1;33m)\u001b[0m\u001b[1;33m\u001b[0m\u001b[1;33m\u001b[0m\u001b[0m\n\u001b[0;32m      5\u001b[0m \u001b[0mget_ipython\u001b[0m\u001b[1;33m(\u001b[0m\u001b[1;33m)\u001b[0m\u001b[1;33m.\u001b[0m\u001b[0mrun_line_magic\u001b[0m\u001b[1;33m(\u001b[0m\u001b[1;34m'cd'\u001b[0m\u001b[1;33m,\u001b[0m \u001b[1;34m'centerlineArray'\u001b[0m\u001b[1;33m)\u001b[0m\u001b[1;33m\u001b[0m\u001b[1;33m\u001b[0m\u001b[0m\n",
      "\u001b[1;31mModuleNotFoundError\u001b[0m: No module named 'google'"
     ]
    }
   ],
   "source": [
    "from google.colab import drive\n",
    "drive.mount('/content/gdrive')\n",
    "%cd gdrive/My Drive/\n",
    "%cd AneuriskDataset\n",
    "%cd centerlineArray"
   ]
  },
  {
   "cell_type": "code",
   "execution_count": 2,
   "metadata": {
    "colab": {
     "base_uri": "https://localhost:8080/",
     "height": 35
    },
    "id": "rO43zriBgLvI",
    "outputId": "113fe9e5-933f-41fd-d602-85422a4b8248"
   },
   "outputs": [
    {
     "data": {
      "text/plain": [
       "'centerlines95'"
      ]
     },
     "execution_count": 2,
     "metadata": {},
     "output_type": "execute_result"
    }
   ],
   "source": [
    "centerlines_list = []\n",
    "for i in range(1, 100):\n",
    "    centerlines_list.append('centerlines' + str(i) )\n",
    "\n",
    "#Elimino las problematicas\n",
    "centerlines_list.pop(31)#32\n",
    "centerlines_list.pop(52)#54\n",
    "centerlines_list.pop(88)#91\n",
    "centerlines_list.pop(89)#93\n",
    "centerlines_list.pop(90)#95"
   ]
  },
  {
   "cell_type": "code",
   "execution_count": 3,
   "metadata": {
    "colab": {
     "base_uri": "https://localhost:8080/",
     "height": 300
    },
    "id": "OR8HqYb_hVgt",
    "outputId": "5e31c26e-3833-4d91-fe69-2c203a7868fd"
   },
   "outputs": [
    {
     "name": "stdout",
     "output_type": "stream",
     "text": [
      "[35.48153305  3.83019328 61.53855896  1.75184402  0.        ]\n"
     ]
    },
    {
     "data": {
      "text/plain": [
       "(2840, 5)"
      ]
     },
     "execution_count": 3,
     "metadata": {},
     "output_type": "execute_result"
    },
    {
     "data": {
      "image/png": "[encoded data removed]",
      "text/plain": [
       "<Figure size 432x288 with 1 Axes>"
      ]
     },
     "metadata": {
      "needs_background": "light"
     },
     "output_type": "display_data"
    }
   ],
   "source": [
    "filename = \"centerlines68\"\n",
    "\n",
    "#line = np.load(filename+\".npy\")#[:,0:3]\n",
    "line = np.load( filename+\".npy\")\n",
    "\n",
    "plt.scatter(line[:,0], line[:,1])\n",
    "\n",
    "print(line[0])\n",
    "line.shape"
   ]
  },
  {
   "cell_type": "code",
   "execution_count": 4,
   "metadata": {
    "id": "kvKQ8LnagLtH"
   },
   "outputs": [],
   "source": [
    "#Calculo distancia euclidea entre dos puntos susecivos\n",
    "def Distance(pointA, pointB):\n",
    "    xa, ya, za, ra, la = pointA\n",
    "    xb, yb, zb, rb, lb = pointB\n",
    "    dist = math.sqrt((xa-xb)**2+(ya-yb)**2+(za-zb)**2)\n",
    "    return dist;"
   ]
  },
  {
   "cell_type": "code",
   "execution_count": 5,
   "metadata": {
    "id": "po7MwAbNgLq9"
   },
   "outputs": [],
   "source": [
    "def LinearCurveLength(line):\n",
    "    accum = 0\n",
    "    npoints = line.shape[0]\n",
    "    for point in range(0,npoints-1):\n",
    "        pointA = line[point]\n",
    "        pointB= line[point+1]\n",
    "        accum = accum + Distance(pointA, pointB)\n",
    "    return accum\n",
    "        "
   ]
  },
  {
   "cell_type": "code",
   "execution_count": 6,
   "metadata": {
    "id": "q-TMWWNCgLn7"
   },
   "outputs": [],
   "source": [
    "def UniformLinearInterpolation(line, target_count):\n",
    "    \n",
    "    total_length = LinearCurveLength(line)\n",
    "    segment_length = total_length / (target_count - 1);\n",
    "    \n",
    "    result = []\n",
    "    \n",
    "    src_segment_offset = 0\n",
    "    start = 0\n",
    "    finish = start + 1\n",
    "    \n",
    "    src_segment_length = Distance(line[start], line[finish]);\n",
    " \n",
    "    for i in range (0, target_count):#target count es el numero de puntos final que quiero\n",
    "        next_offset = segment_length * i;# i me dice en que numero de punto voy\n",
    "        while(src_segment_offset + src_segment_length < next_offset-1 and finish < line.shape[0]-1):\n",
    "            src_segment_offset += src_segment_length  #src_segment_offset es cuanta distancia voy\n",
    "            start = finish\n",
    "            finish = start+1\n",
    "            src_segment_length = Distance(line[start], line[finish])\n",
    "        \n",
    "        \n",
    "        if (line[start][4] != line[finish][4]):\n",
    "          start = finish\n",
    "          finish = start+1\n",
    "          \n",
    "        part_offset = next_offset - src_segment_offset;\n",
    "        part_ratio = part_offset / src_segment_length;\n",
    " \n",
    "        result.append((line[start][0] + part_ratio * (line[finish][0] - line[start][0]),\n",
    "        line[start][1] + part_ratio * (line[finish][1] - line[start][1]),\n",
    "        line[start][2] + part_ratio * (line[finish][2] - line[start][2])))\n",
    "\n",
    "\n",
    "          \n",
    "    return result"
   ]
  },
  {
   "cell_type": "code",
   "execution_count": 7,
   "metadata": {
    "colab": {
     "base_uri": "https://localhost:8080/"
    },
    "id": "bMngiC2mhPe6",
    "outputId": "c02a6667-8806-4ae0-b702-b7691aee8d41"
   },
   "outputs": [
    {
     "name": "stdout",
     "output_type": "stream",
     "text": [
      "\n",
      "\n",
      "(1024, 2)\n",
      "(1024, 3)\n",
      "(1024, 5)\n",
      "Interpolated Points:\n",
      "\n",
      "\n",
      "\n",
      "Source linear interpolated length:            449.59343810421046 \n",
      "\n",
      "Interpolation's linear interpolated length:   466.23086669651315 \n",
      "\n",
      "Original number of points:                    2840 \n",
      "\n",
      "Interpolation's number of points:             1024 \n",
      "\n"
     ]
    }
   ],
   "source": [
    "       \n",
    "print('\\n')\n",
    "\n",
    "add = np.zeros((1024, 2))\n",
    "print(add.shape)\n",
    "interpolated = np.array(UniformLinearInterpolation(line, 1024))\n",
    "interpolated2 = np.array(UniformLinearInterpolation(line, 512))\n",
    "print(interpolated.shape)\n",
    "interpolated = np.concatenate((interpolated, add), axis = 1)\n",
    "print(interpolated.shape)\n",
    "print(\"Interpolated Points:\\n\")\n",
    "\n",
    "#for point in interpolated:\n",
    "    #print (point)\n",
    "\n",
    "print('\\n')\n",
    "print( \"Source linear interpolated length:           \", LinearCurveLength(line), '\\n')\n",
    "print( \"Interpolation's linear interpolated length:  \", LinearCurveLength(interpolated), '\\n')\n",
    "\n",
    "print( \"Original number of points:                   \", line.shape[0], '\\n')\n",
    "print( \"Interpolation's number of points:            \", interpolated.shape[0], '\\n')\n",
    "\n",
    "#np.save('ResampledMainCenterlines256/'+filename+'Resampled.npy', interpolated)"
   ]
  },
  {
   "cell_type": "code",
   "execution_count": 8,
   "metadata": {
    "colab": {
     "base_uri": "https://localhost:8080/",
     "height": 761
    },
    "id": "FJW4Q8ovhPY3",
    "outputId": "4041e819-e83c-4dd4-e882-25c661a47d36"
   },
   "outputs": [
    {
     "data": {
      "image/png": "[encoded data removed]",
      "text/plain": [
       "<Figure size 432x288 with 1 Axes>"
      ]
     },
     "metadata": {
      "needs_background": "light"
     },
     "output_type": "display_data"
    },
    {
     "data": {
      "image/png": "[encoded data removed]",
      "text/plain": [
       "<Figure size 432x288 with 1 Axes>"
      ]
     },
     "metadata": {
      "needs_background": "light"
     },
     "output_type": "display_data"
    },
    {
     "data": {
      "image/png": "[encoded data removed]",
      "text/plain": [
       "<Figure size 432x288 with 1 Axes>"
      ]
     },
     "metadata": {
      "needs_background": "light"
     },
     "output_type": "display_data"
    }
   ],
   "source": [
    "plt.scatter(line[:,0], line[:,1])\n",
    "plt.show()\n",
    "plt.scatter(interpolated[:,0], interpolated[:,1])\n",
    "plt.show()\n",
    "plt.scatter(interpolated2[:,0], interpolated2[:,1])\n",
    "plt.show()\n"
   ]
  },
  {
   "cell_type": "code",
   "execution_count": 10,
   "metadata": {
    "id": "xrxtn0JuhPVz"
   },
   "outputs": [],
   "source": [
    "for line in centerlines_list:\n",
    "    interpolated = np.array(UniformLinearInterpolation(np.load(line +\".npy\"), 8192))\n",
    "    np.save('Resampled8192/'+line+'Resampled.npy', interpolated)"
   ]
  }
 ],
 "metadata": {
  "colab": {
   "authorship_tag": "ABX9TyNAtl7ZjqHJOaJ46qv73aV1",
   "include_colab_link": true,
   "name": "Resamplemultiline.ipynb",
   "provenance": []
  },
  "kernelspec": {
   "display_name": "Python 3",
   "language": "python",
   "name": "python3"
  },
  "language_info": {
   "codemirror_mode": {
    "name": "ipython",
    "version": 3
   },
   "file_extension": ".py",
   "mimetype": "text/x-python",
   "name": "python",
   "nbconvert_exporter": "python",
   "pygments_lexer": "ipython3",
   "version": "3.7.6"
  }
 },
 "nbformat": 4,
 "nbformat_minor": 1
}
